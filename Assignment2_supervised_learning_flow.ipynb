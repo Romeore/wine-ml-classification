{
 "cells": [
  {
   "cell_type": "markdown",
   "id": "ec202ada",
   "metadata": {},
   "source": [
    "# Assignment2 - Supervised Learning flow"
   ]
  },
  {
   "cell_type": "markdown",
   "id": "b06a2810",
   "metadata": {},
   "source": [
    "# Part 1 - Student details:\n",
    "* Please write the First Name and last 4 digits of the i.d. for each student. For example:\n",
    "<pre>Israel 9812</pre>"
   ]
  },
  {
   "cell_type": "code",
   "execution_count": 1,
   "id": "ca16486b",
   "metadata": {},
   "outputs": [],
   "source": [
    "# student 1: Osher 4814\n",
    "# student 2: Alon 4694"
   ]
  },
  {
   "cell_type": "markdown",
   "id": "df67c2ee-87c8-499c-a04f-1853c332f51d",
   "metadata": {},
   "source": [
    "## Part 2 - Initial Preparations \n",
    "You could add as many code cells as needed"
   ]
  },
  {
   "cell_type": "code",
   "execution_count": null,
   "id": "b29b3454-b568-4614-8017-f15b3c59fc55",
   "metadata": {},
   "outputs": [],
   "source": [
    "import numpy as np\n",
    "import pandas as pd\n",
    "from sklearn.decomposition import PCA\n",
    "from sklearn.preprocessing import StandardScaler\n",
    "from sklearn.pipeline import Pipeline\n",
    "from sklearn.model_selection import GridSearchCV\n",
    "from sklearn.metrics import f1_score, make_scorer\n",
    "from sklearn.ensemble import RandomForestClassifier\n",
    "from sklearn.svm import SVC\n",
    "from sklearn.neighbors import KNeighborsClassifier\n",
    "import matplotlib.pyplot as plt\n",
    "import seaborn as sns\n",
    "from sklearn.metrics import classification_report, confusion_matrix, accuracy_score, f1_score\n",
    "\n",
    "train_data = pd.read_csv('wine_train.csv')\n",
    "test_data = pd.read_csv('wine_test.csv')"
   ]
  },
  {
   "cell_type": "code",
   "execution_count": null,
   "id": "e2f04be5-cfde-47e3-8649-59a51f150e15",
   "metadata": {},
   "outputs": [],
   "source": [
    "train_data.head()"
   ]
  },
  {
   "cell_type": "code",
   "execution_count": null,
   "id": "d0e9c5d2-e6c1-4e1c-8d5d-7764caea0a2c",
   "metadata": {},
   "outputs": [],
   "source": [
    "test_data.head()"
   ]
  },
  {
   "cell_type": "code",
   "execution_count": null,
   "id": "836d584b-8f21-43c7-92f8-ad286b992524",
   "metadata": {},
   "outputs": [],
   "source": [
    "test_data.corr()"
   ]
  },
  {
   "cell_type": "code",
   "execution_count": null,
   "id": "9006eed6-2af9-49dd-9c06-11570c9c2472",
   "metadata": {},
   "outputs": [],
   "source": [
    "train_data.describe(include='all')"
   ]
  },
  {
   "cell_type": "code",
   "execution_count": null,
   "id": "71f3564b-c874-4677-b4ff-93f2c52bc573",
   "metadata": {},
   "outputs": [],
   "source": [
    "plt.figure(figsize=(10, 6)) \n",
    "sns.boxplot(x='target', y='alcohol', data=train_data)\n",
    "plt.title('Distribution of Alcohol Levels') \n",
    "plt.xlabel('Alcohol Content') \n",
    "plt.ylabel('Frequency') \n",
    "plt.show()"
   ]
  },
  {
   "cell_type": "code",
   "execution_count": null,
   "id": "31cc6670-eab6-4b0c-8d9c-e5a83669108c",
   "metadata": {},
   "outputs": [],
   "source": [
    "plt.figure(figsize=(10, 6))\n",
    "sns.heatmap(train_data.corr(), annot=True, cmap=\"coolwarm\")\n",
    "plt.title(\"Correlation Heatmap\")\n",
    "plt.show()"
   ]
  },
  {
   "cell_type": "markdown",
   "id": "fb36672a",
   "metadata": {},
   "source": [
    "## Part 3 - Experiments\n",
    "You could add as many code cells as needed"
   ]
  },
  {
   "cell_type": "code",
   "execution_count": null,
   "id": "c40164a3-85a0-4d1e-be92-d13f915c2e69",
   "metadata": {},
   "outputs": [],
   "source": [
    "X_train = train_data.drop('target', axis=1)  # החלף את 'target' בשם עמודת המטרה\n",
    "y_train = train_data['target']\n",
    "\n",
    "X_test = test_data.drop('target', axis=1)  # אם יש עמודת מטרה גם ב-test set, אחרת להשאיר כמו שהוא\n",
    "y_test = test_data['target']  # אם יש עמודת מטרה גם ב-test set, אחרת להשאיר כמו שהוא"
   ]
  },
  {
   "cell_type": "code",
   "execution_count": null,
   "id": "86026114-116c-461c-82c0-0348effdfc7b",
   "metadata": {},
   "outputs": [],
   "source": [
    "scaler = StandardScaler()\n",
    "pca = PCA(n_components=7)\n",
    "scoring = make_scorer(f1_score, average='macro')\n",
    "\n",
    "pipeline_svc = Pipeline([\n",
    "    ('scaler', scaler),\n",
    "    ('pca', pca),\n",
    "    ('model', SVC())\n",
    "])\n",
    "\n",
    "param_grid_svc = {\n",
    "    'model__C': [0.5, 1, 7],\n",
    "    'model__kernel': ['linear', 'rbf']\n",
    "}\n",
    "\n",
    "grid_search_svc = GridSearchCV(\n",
    "    estimator=pipeline_svc,\n",
    "    param_grid=param_grid_svc,\n",
    "    cv=5,\n",
    "    scoring=scoring\n",
    ")\n",
    "grid_search_svc.fit(X_train, y_train)\n",
    "\n",
    "print(\"Best parameters for SVC:\", grid_search_svc.best_params_)\n",
    "print(f\"Best cross-validation score for SVC: {grid_search_svc.best_score_:.4f}\")\n",
    "best_model_svc = grid_search_svc.best_estimator_"
   ]
  },
  {
   "cell_type": "code",
   "execution_count": null,
   "id": "a65c92a9-830a-4c5c-9cca-8168848f2d54",
   "metadata": {},
   "outputs": [],
   "source": [
    "pipeline_rf = Pipeline([\n",
    "    ('scaler', scaler),\n",
    "    ('pca', pca),\n",
    "    ('model', RandomForestClassifier())\n",
    "])\n",
    "\n",
    "param_grid_rf = {\n",
    "    'model__n_estimators': [50, 100 , 150],\n",
    "    'model__max_depth': [10, 20, 30],\n",
    "    'model__min_samples_split': [2, 5]\n",
    "}\n",
    "\n",
    "grid_search_rf = GridSearchCV(\n",
    "    estimator=pipeline_rf,\n",
    "    param_grid=param_grid_rf,\n",
    "    cv=5,\n",
    "    scoring=scoring\n",
    ")\n",
    "grid_search_rf.fit(X_train, y_train)\n",
    "\n",
    "print(\"Best parameters for Random Forest:\", grid_search_rf.best_params_)\n",
    "print(f\"Best cross-validation score for Random Forest: {grid_search_rf.best_score_:.4f}\")\n",
    "best_model_rf = grid_search_rf.best_estimator_"
   ]
  },
  {
   "cell_type": "code",
   "execution_count": null,
   "id": "d45835b1-ff5b-412d-9ef1-2d55ae01a095",
   "metadata": {},
   "outputs": [],
   "source": [
    "pipeline_knn = Pipeline([\n",
    "    ('scaler', scaler),\n",
    "    ('pca', pca),\n",
    "    ('model', KNeighborsClassifier())\n",
    "])\n",
    "\n",
    "param_grid_knn = {\n",
    "    'model__n_neighbors': [3, 5, 7],\n",
    "    'model__weights': ['uniform', 'distance']\n",
    "}\n",
    "\n",
    "grid_search_knn = GridSearchCV(\n",
    "    estimator=pipeline_knn,\n",
    "    param_grid=param_grid_knn,\n",
    "    cv=5,\n",
    "    scoring=scoring\n",
    ")\n",
    "grid_search_knn.fit(X_train, y_train)\n",
    "\n",
    "print(\"Best parameters for KNN:\", grid_search_knn.best_params_)\n",
    "print(f\"Best cross-validation score for KNN: {grid_search_knn.best_score_:.4f}\")\n",
    "best_model_knn = grid_search_knn.best_estimator_"
   ]
  },
  {
   "cell_type": "code",
   "execution_count": null,
   "id": "e3d2f862-c19c-4335-89f7-a50e5c9fdc9e",
   "metadata": {},
   "outputs": [],
   "source": [
    "best_scores = {\n",
    "    'Random Forest': grid_search_rf.best_score_,\n",
    "    'Support Vector Classifier': grid_search_svc.best_score_,\n",
    "    'K-Nearest Neighbors': grid_search_knn.best_score_\n",
    "}\n",
    "\n",
    "best_model_name = max(best_scores, key=best_scores.get)\n",
    "best_score = best_scores[best_model_name]\n",
    "\n",
    "print(f\"\\nBest Overall Model: {best_model_name}\")\n",
    "print(f\"Best Cross-Validation Score: {best_score:.4f}\")\n",
    "\n",
    "if best_model_name == 'Random Forest':\n",
    "    best_estimator = best_model_rf\n",
    "elif best_model_name == 'Support Vector Classifier':\n",
    "    best_estimator = best_model_svc\n",
    "else:\n",
    "    best_estimator = best_model_knn\n"
   ]
  },
  {
   "cell_type": "markdown",
   "id": "67d97f11",
   "metadata": {},
   "source": [
    "## Part 4 - Training \n",
    "Use the best combination of feature engineering, model (algorithm and hyperparameters) from the experiment part (part 3)"
   ]
  },
  {
   "cell_type": "code",
   "execution_count": null,
   "id": "3aa416cc-c950-4f1b-a3e7-c7d5a4637433",
   "metadata": {},
   "outputs": [],
   "source": [
    "scaler = StandardScaler()\n",
    "train_data_copy = train_data.copy()\n",
    "test_data_copy = test_data.copy()\n",
    "\n",
    "X_train_scaled = scaler.fit_transform(train_data_copy.drop('target', axis=1))\n",
    "X_test_scaled = scaler.transform(test_data_copy.drop('target', axis=1))\n",
    "\n",
    "X_train = X_train_scaled\n",
    "X_test = X_test_scaled\n",
    "y_train = train_data[\"target\"]\n",
    "y_test = test_data[\"target\"]\n",
    "\n",
    "best_estimator.fit(X_train, y_train)"
   ]
  },
  {
   "cell_type": "markdown",
   "id": "259ab902",
   "metadata": {},
   "source": [
    "## Part 5 - Apply on test and show model performance estimation"
   ]
  },
  {
   "cell_type": "code",
   "execution_count": null,
   "id": "d9971aa5",
   "metadata": {},
   "outputs": [],
   "source": [
    "y_pred = best_estimator.predict(X_test_scaled)\n",
    "\n",
    "# Calculate and display the evaluation metrics\n",
    "f1_test = f1_score(y_test, y_pred, average='macro')\n",
    "accuracy_test = accuracy_score(y_test, y_pred)\n",
    "classification_rep_test = classification_report(y_test, y_pred)\n",
    "\n",
    "print(f\"F1-macro Score on Test Set: {f1_test}\")\n",
    "print(f\"Accuracy on Test Set: {accuracy_test}\")\n",
    "print(\"\\nClassification Report on Test Set:\")\n",
    "print(classification_rep_test)\n",
    "\n",
    "# Display the first 5 predictions along with actual values\n",
    "predictions_df = pd.DataFrame({\n",
    "    'Actual': y_test,\n",
    "    'Predicted': y_pred\n",
    "}).head()\n",
    "\n",
    "\n",
    "print(predictions_df)"
   ]
  }
 ],
 "metadata": {
  "kernelspec": {
   "display_name": "Python 3 (ipykernel)",
   "language": "python",
   "name": "python3"
  },
  "language_info": {
   "codemirror_mode": {
    "name": "ipython",
    "version": 3
   },
   "file_extension": ".py",
   "mimetype": "text/x-python",
   "name": "python",
   "nbconvert_exporter": "python",
   "pygments_lexer": "ipython3",
   "version": "3.12.4"
  }
 },
 "nbformat": 4,
 "nbformat_minor": 5
}
